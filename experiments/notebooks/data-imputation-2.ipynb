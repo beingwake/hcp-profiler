{
 "cells": [
  {
   "cell_type": "code",
   "execution_count": 1,
   "metadata": {},
   "outputs": [],
   "source": [
    "import pandas as pd\n",
    "import numpy as np\n",
    "import matplotlib.pyplot as plt"
   ]
  },
  {
   "cell_type": "code",
   "execution_count": 2,
   "metadata": {},
   "outputs": [],
   "source": [
    "trainDF = pd.read_csv(\"../data-processed/imputation-v1.csv\")"
   ]
  },
  {
   "cell_type": "code",
   "execution_count": 7,
   "metadata": {},
   "outputs": [
    {
     "data": {
      "text/plain": [
       "ID                     0\n",
       "DEVICETYPE             0\n",
       "PLATFORM_ID            0\n",
       "BIDREQUESTIP           0\n",
       "USERPLATFORMUID        4\n",
       "USERCITY            5925\n",
       "USERZIPCODE         4592\n",
       "USERAGENT              2\n",
       "PLATFORMTYPE           0\n",
       "CHANNELTYPE            0\n",
       "URL                    0\n",
       "KEYWORDS               0\n",
       "TAXONOMY           81624\n",
       "IS_HCP                 1\n",
       "dtype: int64"
      ]
     },
     "execution_count": 7,
     "metadata": {},
     "output_type": "execute_result"
    }
   ],
   "source": [
    "trainDF.isna().sum()"
   ]
  },
  {
   "cell_type": "code",
   "execution_count": 9,
   "metadata": {},
   "outputs": [
    {
     "data": {
      "text/plain": [
       "USERCITY       5925\n",
       "USERZIPCODE    4592\n",
       "dtype: int64"
      ]
     },
     "execution_count": 9,
     "metadata": {},
     "output_type": "execute_result"
    }
   ],
   "source": [
    "trainDF[[\"USERCITY\", \"USERZIPCODE\"]].isna().sum()"
   ]
  },
  {
   "cell_type": "code",
   "execution_count": 16,
   "metadata": {},
   "outputs": [
    {
     "data": {
      "text/plain": [
       "ID                 4590\n",
       "DEVICETYPE         4590\n",
       "PLATFORM_ID        4590\n",
       "BIDREQUESTIP       4590\n",
       "USERPLATFORMUID    4590\n",
       "USERCITY              0\n",
       "USERZIPCODE           0\n",
       "USERAGENT          4589\n",
       "PLATFORMTYPE       4590\n",
       "CHANNELTYPE        4590\n",
       "URL                4590\n",
       "KEYWORDS           4590\n",
       "TAXONOMY              0\n",
       "IS_HCP             4590\n",
       "dtype: int64"
      ]
     },
     "execution_count": 16,
     "metadata": {},
     "output_type": "execute_result"
    }
   ],
   "source": [
    "trainDF[(trainDF[\"USERCITY\"].isna() & trainDF[\"USERZIPCODE\"].isna())].count()"
   ]
  },
  {
   "cell_type": "code",
   "execution_count": null,
   "metadata": {},
   "outputs": [],
   "source": []
  }
 ],
 "metadata": {
  "kernelspec": {
   "display_name": "atom",
   "language": "python",
   "name": "python3"
  },
  "language_info": {
   "codemirror_mode": {
    "name": "ipython",
    "version": 3
   },
   "file_extension": ".py",
   "mimetype": "text/x-python",
   "name": "python",
   "nbconvert_exporter": "python",
   "pygments_lexer": "ipython3",
   "version": "3.11.3"
  },
  "orig_nbformat": 4
 },
 "nbformat": 4,
 "nbformat_minor": 2
}
