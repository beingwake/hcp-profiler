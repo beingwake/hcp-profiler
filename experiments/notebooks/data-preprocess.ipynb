{
 "cells": [
  {
   "cell_type": "code",
   "execution_count": 1,
   "metadata": {},
   "outputs": [],
   "source": [
    "import pandas as pd\n",
    "import numpy as np\n",
    "import matplotlib.pyplot as plt"
   ]
  },
  {
   "cell_type": "code",
   "execution_count": 2,
   "metadata": {},
   "outputs": [
    {
     "name": "stdout",
     "output_type": "stream",
     "text": [
      "     ID DEVICETYPE  PLATFORM_ID    BIDREQUESTIP  \\\n",
      "0  1001    Desktop            2    170.173.0.22   \n",
      "1  1002    Desktop            2   65.216.253.25   \n",
      "2  1003    Desktop            2    66.232.79.22   \n",
      "3  1004    Desktop            3  137.54.125.246   \n",
      "4  1005     Mobile            7  174.202.231.99   \n",
      "\n",
      "                        USERPLATFORMUID     USERCITY  USERZIPCODE  \\\n",
      "0  6974dcaa-f932-480e-9fb5-c52e20e1393a     Portland      97206.0   \n",
      "1  c12f3f8f-8fcf-484a-90e1-1ac04db8cdcf    Arlington      22202.0   \n",
      "2  a698de4b-e200-46dd-b5fb-40402175ae18  New Meadows      83654.0   \n",
      "3  45967533-75c8-4fbd-a00c-e6ff20447aaa          NaN  229114624.0   \n",
      "4  a17e25be-532d-4cf5-b916-9308c8c3961f      Houston      77008.0   \n",
      "\n",
      "                                           USERAGENT            PLATFORMTYPE  \\\n",
      "0  Mozilla/5.0 (Windows NT 10.0; Win64; x64) Appl...  Online Medical Journal   \n",
      "1  Mozilla/5.0 (Macintosh; Intel Mac OS X 10_15_7...  Online Medical Journal   \n",
      "2  Mozilla/5.0 (Macintosh; Intel Mac OS X 10_15_7...  Online Medical Journal   \n",
      "3  Mozilla/5.0 (Windows NT 10.0; Win64; x64) Appl...  Online Medical Journal   \n",
      "4  Mozilla/5.0 (iPhone; CPU iPhone OS 16_1_1 like...  Online Medical Journal   \n",
      "\n",
      "  CHANNELTYPE                                                URL  \\\n",
      "0     Website  https://www.cancertherapyadvisor.com/home/canc...   \n",
      "1     Website  https://www.cancertherapyadvisor.com/home/deci...   \n",
      "2     Website  https://www.cancertherapyadvisor.com/home/canc...   \n",
      "3     Website  https://globalrph.com/medcalcs/warfarin-mainte...   \n",
      "4     Website  https://www.cureus.com/articles/58184-a-review...   \n",
      "\n",
      "                                            KEYWORDS    TAXONOMY  IS_HCP  \n",
      "0  General|Endocrine|False|Medicine|Surgery|Urolo...         NaN     0.0  \n",
      "1  Bone Marrow|Radiography|Chronic|Oncology|Psych...         NaN     0.0  \n",
      "2  General|Endocrine|False|Medicine|Surgery|Urolo...         NaN     0.0  \n",
      "3  Dental|Total|Clinical|Pharmacology|Physicians|...  2084P0800X     1.0  \n",
      "4  Critical Care|Emergency Medicine|General Pract...         NaN     0.0  \n"
     ]
    }
   ],
   "source": [
    "trainDF = pd.read_csv('../../dataset/Doceree-HCP_Train.csv', encoding='latin-1')\n",
    "print(trainDF.head())"
   ]
  },
  {
   "cell_type": "code",
   "execution_count": null,
   "metadata": {},
   "outputs": [],
   "source": [
    "trainDF.info()"
   ]
  },
  {
   "cell_type": "code",
   "execution_count": null,
   "metadata": {},
   "outputs": [],
   "source": [
    "for column in trainDF.columns:\n",
    "    uniqueValues = trainDF[column].unique()\n",
    "    print(f\"Column: {column} ==> {len(uniqueValues)}\")\n",
    "    print()"
   ]
  },
  {
   "cell_type": "code",
   "execution_count": null,
   "metadata": {},
   "outputs": [],
   "source": [
    "print(len(trainDF[\"USERAGENT\"].unique()))"
   ]
  },
  {
   "cell_type": "code",
   "execution_count": null,
   "metadata": {},
   "outputs": [],
   "source": [
    "missingValues = trainDF.isnull().sum()"
   ]
  },
  {
   "cell_type": "code",
   "execution_count": null,
   "metadata": {},
   "outputs": [],
   "source": [
    "missingValues['ID']"
   ]
  },
  {
   "cell_type": "code",
   "execution_count": 3,
   "metadata": {},
   "outputs": [
    {
     "data": {
      "text/plain": [
       "Index(['ID', 'DEVICETYPE', 'PLATFORM_ID', 'BIDREQUESTIP', 'USERPLATFORMUID',\n",
       "       'USERCITY', 'USERZIPCODE', 'USERAGENT', 'PLATFORMTYPE', 'CHANNELTYPE',\n",
       "       'URL', 'KEYWORDS', 'TAXONOMY', 'IS_HCP'],\n",
       "      dtype='object')"
      ]
     },
     "execution_count": 3,
     "metadata": {},
     "output_type": "execute_result"
    }
   ],
   "source": [
    "columnNames = trainDF.columns\n",
    "columnNames"
   ]
  },
  {
   "cell_type": "code",
   "execution_count": null,
   "metadata": {},
   "outputs": [],
   "source": [
    "trainDF['DEVICETYPE'].value_counts().idxmax"
   ]
  },
  {
   "cell_type": "code",
   "execution_count": null,
   "metadata": {},
   "outputs": [],
   "source": [
    "32065 + 3425 + 24 + 78423"
   ]
  },
  {
   "cell_type": "code",
   "execution_count": null,
   "metadata": {},
   "outputs": [],
   "source": [
    "for index in columnNames:\n",
    "    total = missingValues[index]\n",
    "    nullTotal = len(trainDF[index])\n",
    "    print(f\"{trainDF[index]} has {total} total: {nullTotal} ===> {(nullTotal/total)*100}%\")"
   ]
  },
  {
   "cell_type": "code",
   "execution_count": null,
   "metadata": {},
   "outputs": [],
   "source": [
    "for index in columnNames:\n",
    "    print(f\"{index}\\t\\t: {len(trainDF[index])} : {missingValues[index]}\")"
   ]
  },
  {
   "cell_type": "code",
   "execution_count": null,
   "metadata": {},
   "outputs": [],
   "source": [
    "for column in trainDF:\n",
    "    uniqueValues = len(trainDF[column].unique())\n",
    "    print(f\"Column {column}: {uniqueValues}\")"
   ]
  },
  {
   "cell_type": "code",
   "execution_count": null,
   "metadata": {},
   "outputs": [],
   "source": [
    "for col in trainDF.columns:\n",
    "    maxAppearedValue = trainDF[col].value_counts().idxmax\n",
    "    print(f\"Column {col} : {maxAppearedValue}\")"
   ]
  },
  {
   "cell_type": "code",
   "execution_count": null,
   "metadata": {},
   "outputs": [],
   "source": [
    "columnName = 'KEYWORDS'\n",
    "valueCounts = trainDF[columnName].value_counts()\n",
    "valueCounts.plot(kind='bar')\n",
    "plt.title(f\" {columnName} vs Counts \")\n",
    "plt.xlabel(columnName)\n",
    "plt.ylabel(\"Frequency\")\n",
    "print(valueCounts)"
   ]
  },
  {
   "cell_type": "code",
   "execution_count": 41,
   "metadata": {},
   "outputs": [
    {
     "data": {
      "text/plain": [
       "0.6051674815894686"
      ]
     },
     "execution_count": 41,
     "metadata": {},
     "output_type": "execute_result"
    }
   ],
   "source": [
    "userCity = pd.factorize(trainDF[\"USERCITY\"])[0] + 1\n",
    "userZipCode = pd.factorize(trainDF[\"USERZIPCODE\"])[0] + 1\n",
    "userCity = pd.Series(userCity)\n",
    "userZipCode = pd.Series(userZipCode)\n",
    "corr = userCity.corr(userZipCode)\n",
    "corr\n"
   ]
  },
  {
   "cell_type": "code",
   "execution_count": 35,
   "metadata": {},
   "outputs": [
    {
     "data": {
      "text/plain": [
       "numpy.ndarray"
      ]
     },
     "execution_count": 35,
     "metadata": {},
     "output_type": "execute_result"
    }
   ],
   "source": [
    "type(userCity)"
   ]
  },
  {
   "cell_type": "code",
   "execution_count": 37,
   "metadata": {},
   "outputs": [
    {
     "data": {
      "text/plain": [
       "113937"
      ]
     },
     "execution_count": 37,
     "metadata": {},
     "output_type": "execute_result"
    }
   ],
   "source": [
    "len(userCity)"
   ]
  },
  {
   "cell_type": "code",
   "execution_count": 39,
   "metadata": {},
   "outputs": [
    {
     "data": {
      "text/plain": [
       "4420"
      ]
     },
     "execution_count": 39,
     "metadata": {},
     "output_type": "execute_result"
    }
   ],
   "source": [
    "userCity.max()"
   ]
  },
  {
   "cell_type": "code",
   "execution_count": 45,
   "metadata": {},
   "outputs": [
    {
     "data": {
      "text/html": [
       "<div>\n",
       "<style scoped>\n",
       "    .dataframe tbody tr th:only-of-type {\n",
       "        vertical-align: middle;\n",
       "    }\n",
       "\n",
       "    .dataframe tbody tr th {\n",
       "        vertical-align: top;\n",
       "    }\n",
       "\n",
       "    .dataframe thead th {\n",
       "        text-align: right;\n",
       "    }\n",
       "</style>\n",
       "<table border=\"1\" class=\"dataframe\">\n",
       "  <thead>\n",
       "    <tr style=\"text-align: right;\">\n",
       "      <th></th>\n",
       "      <th>ID</th>\n",
       "      <th>DEVICETYPE</th>\n",
       "      <th>PLATFORM_ID</th>\n",
       "      <th>BIDREQUESTIP</th>\n",
       "      <th>USERPLATFORMUID</th>\n",
       "      <th>USERCITY</th>\n",
       "      <th>USERZIPCODE</th>\n",
       "      <th>USERAGENT</th>\n",
       "      <th>PLATFORMTYPE</th>\n",
       "      <th>CHANNELTYPE</th>\n",
       "      <th>URL</th>\n",
       "      <th>KEYWORDS</th>\n",
       "      <th>TAXONOMY</th>\n",
       "      <th>IS_HCP</th>\n",
       "    </tr>\n",
       "  </thead>\n",
       "  <tbody>\n",
       "    <tr>\n",
       "      <th>101780</th>\n",
       "      <td>102781</td>\n",
       "      <td>Desktop</td>\n",
       "      <td>5</td>\n",
       "      <td>216.24.45.42</td>\n",
       "      <td>722fe815-ed32-4bff-ad66-03edf6d910dd</td>\n",
       "      <td>NaN</td>\n",
       "      <td>NaN</td>\n",
       "      <td>Mozilla/5.0 (Windows NT 10.0; Win64; x64) Appl...</td>\n",
       "      <td>Online Medical Journal</td>\n",
       "      <td>Website</td>\n",
       "      <td>https://fpnotebook.com/Gyn/Vulva/VlvrPrts.htm</td>\n",
       "      <td>nephrology|radiology|abscess|oncology|general|...</td>\n",
       "      <td>NaN</td>\n",
       "      <td>0.0</td>\n",
       "    </tr>\n",
       "  </tbody>\n",
       "</table>\n",
       "</div>"
      ],
      "text/plain": [
       "            ID DEVICETYPE  PLATFORM_ID  BIDREQUESTIP  \\\n",
       "101780  102781    Desktop            5  216.24.45.42   \n",
       "\n",
       "                             USERPLATFORMUID USERCITY  USERZIPCODE  \\\n",
       "101780  722fe815-ed32-4bff-ad66-03edf6d910dd      NaN          NaN   \n",
       "\n",
       "                                                USERAGENT  \\\n",
       "101780  Mozilla/5.0 (Windows NT 10.0; Win64; x64) Appl...   \n",
       "\n",
       "                  PLATFORMTYPE CHANNELTYPE  \\\n",
       "101780  Online Medical Journal     Website   \n",
       "\n",
       "                                                  URL  \\\n",
       "101780  https://fpnotebook.com/Gyn/Vulva/VlvrPrts.htm   \n",
       "\n",
       "                                                 KEYWORDS TAXONOMY  IS_HCP  \n",
       "101780  nephrology|radiology|abscess|oncology|general|...      NaN     0.0  "
      ]
     },
     "execution_count": 45,
     "metadata": {},
     "output_type": "execute_result"
    }
   ],
   "source": [
    "trainDF.loc[trainDF[\"ID\"] == 102781]"
   ]
  },
  {
   "cell_type": "code",
   "execution_count": 52,
   "metadata": {},
   "outputs": [
    {
     "data": {
      "text/plain": [
       "3         229114624.0\n",
       "21        912031130.0\n",
       "22                NaN\n",
       "24                NaN\n",
       "33                NaN\n",
       "             ...     \n",
       "113911    921113738.0\n",
       "113913    787356202.0\n",
       "113918    760865488.0\n",
       "113929            NaN\n",
       "113934        98105.0\n",
       "Name: USERZIPCODE, Length: 6359, dtype: float64"
      ]
     },
     "execution_count": 52,
     "metadata": {},
     "output_type": "execute_result"
    }
   ],
   "source": [
    "missingCityCal = trainDF[trainDF[\"USERCITY\"].isna()][\"USERZIPCODE\"]\n",
    "missingCityCal"
   ]
  },
  {
   "cell_type": "code",
   "execution_count": 58,
   "metadata": {},
   "outputs": [],
   "source": [
    "missingCityOrg = trainDF[trainDF[\"USERCITY\"].isna()][\"USERCITY\"]"
   ]
  },
  {
   "cell_type": "code",
   "execution_count": 59,
   "metadata": {},
   "outputs": [
    {
     "data": {
      "text/plain": [
       "3         NaN\n",
       "21        NaN\n",
       "22        NaN\n",
       "24        NaN\n",
       "33        NaN\n",
       "         ... \n",
       "113911    NaN\n",
       "113913    NaN\n",
       "113918    NaN\n",
       "113929    NaN\n",
       "113934    NaN\n",
       "Name: USERCITY, Length: 6359, dtype: object"
      ]
     },
     "execution_count": 59,
     "metadata": {},
     "output_type": "execute_result"
    }
   ],
   "source": [
    "missingCityOrg"
   ]
  },
  {
   "cell_type": "code",
   "execution_count": 56,
   "metadata": {},
   "outputs": [
    {
     "data": {
      "text/plain": [
       "6359"
      ]
     },
     "execution_count": 56,
     "metadata": {},
     "output_type": "execute_result"
    }
   ],
   "source": [
    "len(missingCityCal.isna())"
   ]
  },
  {
   "cell_type": "code",
   "execution_count": 62,
   "metadata": {},
   "outputs": [
    {
     "data": {
      "text/plain": [
       "0         False\n",
       "1         False\n",
       "2         False\n",
       "3         False\n",
       "4         False\n",
       "          ...  \n",
       "113932    False\n",
       "113933    False\n",
       "113934    False\n",
       "113935    False\n",
       "113936    False\n",
       "Name: USERCITY, Length: 113937, dtype: bool"
      ]
     },
     "execution_count": 62,
     "metadata": {},
     "output_type": "execute_result"
    }
   ],
   "source": [
    "trainDF.groupby(\"USERZIPCODE\")[\"USERCITY\"].fillna(method='ffill')"
   ]
  },
  {
   "cell_type": "code",
   "execution_count": 65,
   "metadata": {},
   "outputs": [
    {
     "data": {
      "text/plain": [
       "USERCITY\n",
       "\u0018Aiea           9\n",
       "'Ewa Beach      9\n",
       "Abbeville       5\n",
       "Aberdeen       18\n",
       "Abilene        23\n",
       "               ..\n",
       "Zebulon        12\n",
       "Zelienople      6\n",
       "Zephyrhills     5\n",
       "Zion            4\n",
       "Zionsville     20\n",
       "Name: USERZIPCODE, Length: 4420, dtype: int64"
      ]
     },
     "execution_count": 65,
     "metadata": {},
     "output_type": "execute_result"
    }
   ],
   "source": [
    "trainDF.groupby(\"USERCITY\")[\"USERZIPCODE\"].count()"
   ]
  }
 ],
 "metadata": {
  "kernelspec": {
   "display_name": "atom",
   "language": "python",
   "name": "python3"
  },
  "language_info": {
   "codemirror_mode": {
    "name": "ipython",
    "version": 3
   },
   "file_extension": ".py",
   "mimetype": "text/x-python",
   "name": "python",
   "nbconvert_exporter": "python",
   "pygments_lexer": "ipython3",
   "version": "3.11.3"
  },
  "orig_nbformat": 4
 },
 "nbformat": 4,
 "nbformat_minor": 2
}
