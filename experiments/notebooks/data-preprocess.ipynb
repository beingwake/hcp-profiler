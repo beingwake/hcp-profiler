{
 "cells": [
  {
   "cell_type": "code",
   "execution_count": 9,
   "metadata": {},
   "outputs": [],
   "source": [
    "import pandas as pd\n",
    "import numpy as np\n",
    "import matplotlib.pyplot as plt"
   ]
  },
  {
   "cell_type": "code",
   "execution_count": 2,
   "metadata": {},
   "outputs": [
    {
     "name": "stdout",
     "output_type": "stream",
     "text": [
      "     ID DEVICETYPE  PLATFORM_ID    BIDREQUESTIP  \\\n",
      "0  1001    Desktop            2    170.173.0.22   \n",
      "1  1002    Desktop            2   65.216.253.25   \n",
      "2  1003    Desktop            2    66.232.79.22   \n",
      "3  1004    Desktop            3  137.54.125.246   \n",
      "4  1005     Mobile            7  174.202.231.99   \n",
      "\n",
      "                        USERPLATFORMUID     USERCITY  USERZIPCODE  \\\n",
      "0  6974dcaa-f932-480e-9fb5-c52e20e1393a     Portland      97206.0   \n",
      "1  c12f3f8f-8fcf-484a-90e1-1ac04db8cdcf    Arlington      22202.0   \n",
      "2  a698de4b-e200-46dd-b5fb-40402175ae18  New Meadows      83654.0   \n",
      "3  45967533-75c8-4fbd-a00c-e6ff20447aaa          NaN  229114624.0   \n",
      "4  a17e25be-532d-4cf5-b916-9308c8c3961f      Houston      77008.0   \n",
      "\n",
      "                                           USERAGENT            PLATFORMTYPE  \\\n",
      "0  Mozilla/5.0 (Windows NT 10.0; Win64; x64) Appl...  Online Medical Journal   \n",
      "1  Mozilla/5.0 (Macintosh; Intel Mac OS X 10_15_7...  Online Medical Journal   \n",
      "2  Mozilla/5.0 (Macintosh; Intel Mac OS X 10_15_7...  Online Medical Journal   \n",
      "3  Mozilla/5.0 (Windows NT 10.0; Win64; x64) Appl...  Online Medical Journal   \n",
      "4  Mozilla/5.0 (iPhone; CPU iPhone OS 16_1_1 like...  Online Medical Journal   \n",
      "\n",
      "  CHANNELTYPE                                                URL  \\\n",
      "0     Website  https://www.cancertherapyadvisor.com/home/canc...   \n",
      "1     Website  https://www.cancertherapyadvisor.com/home/deci...   \n",
      "2     Website  https://www.cancertherapyadvisor.com/home/canc...   \n",
      "3     Website  https://globalrph.com/medcalcs/warfarin-mainte...   \n",
      "4     Website  https://www.cureus.com/articles/58184-a-review...   \n",
      "\n",
      "                                            KEYWORDS    TAXONOMY  IS_HCP  \n",
      "0  General|Endocrine|False|Medicine|Surgery|Urolo...         NaN     0.0  \n",
      "1  Bone Marrow|Radiography|Chronic|Oncology|Psych...         NaN     0.0  \n",
      "2  General|Endocrine|False|Medicine|Surgery|Urolo...         NaN     0.0  \n",
      "3  Dental|Total|Clinical|Pharmacology|Physicians|...  2084P0800X     1.0  \n",
      "4  Critical Care|Emergency Medicine|General Pract...         NaN     0.0  \n"
     ]
    }
   ],
   "source": [
    "trainDF = pd.read_csv('../../dataset/Doceree-HCP_Train.csv', encoding='latin-1')\n",
    "print(trainDF.head())"
   ]
  },
  {
   "cell_type": "code",
   "execution_count": null,
   "metadata": {},
   "outputs": [],
   "source": [
    "trainDF.info()"
   ]
  },
  {
   "cell_type": "code",
   "execution_count": null,
   "metadata": {},
   "outputs": [],
   "source": [
    "for column in trainDF.columns:\n",
    "    uniqueValues = trainDF[column].unique()\n",
    "    print(f\"Column: {column} ==> {len(uniqueValues)}\")\n",
    "    print()"
   ]
  },
  {
   "cell_type": "code",
   "execution_count": null,
   "metadata": {},
   "outputs": [],
   "source": [
    "print(len(trainDF[\"USERAGENT\"].unique()))"
   ]
  },
  {
   "cell_type": "code",
   "execution_count": null,
   "metadata": {},
   "outputs": [],
   "source": [
    "missingValues = trainDF.isnull().sum()"
   ]
  },
  {
   "cell_type": "code",
   "execution_count": null,
   "metadata": {},
   "outputs": [],
   "source": [
    "missingValues['ID']"
   ]
  },
  {
   "cell_type": "code",
   "execution_count": 4,
   "metadata": {},
   "outputs": [
    {
     "data": {
      "text/plain": [
       "Index(['ID', 'DEVICETYPE', 'PLATFORM_ID', 'BIDREQUESTIP', 'USERPLATFORMUID',\n",
       "       'USERCITY', 'USERZIPCODE', 'USERAGENT', 'PLATFORMTYPE', 'CHANNELTYPE',\n",
       "       'URL', 'KEYWORDS', 'TAXONOMY', 'IS_HCP'],\n",
       "      dtype='object')"
      ]
     },
     "execution_count": 4,
     "metadata": {},
     "output_type": "execute_result"
    }
   ],
   "source": [
    "columnNames = trainDF.columns\n",
    "columnNames"
   ]
  },
  {
   "cell_type": "code",
   "execution_count": 5,
   "metadata": {},
   "outputs": [
    {
     "data": {
      "text/plain": [
       "<bound method Series.idxmax of Desktop    78423\n",
       "Mobile     32065\n",
       "Tablet      3425\n",
       "Unknown       24\n",
       "Name: DEVICETYPE, dtype: int64>"
      ]
     },
     "execution_count": 5,
     "metadata": {},
     "output_type": "execute_result"
    }
   ],
   "source": [
    "trainDF['DEVICETYPE'].value_counts().idxmax"
   ]
  },
  {
   "cell_type": "code",
   "execution_count": 7,
   "metadata": {},
   "outputs": [
    {
     "data": {
      "text/plain": [
       "113937"
      ]
     },
     "execution_count": 7,
     "metadata": {},
     "output_type": "execute_result"
    }
   ],
   "source": [
    "32065 + 3425 + 24 + 78423"
   ]
  },
  {
   "cell_type": "code",
   "execution_count": null,
   "metadata": {},
   "outputs": [],
   "source": [
    "for index in columnNames:\n",
    "    total = missingValues[index]\n",
    "    nullTotal = len(trainDF[index])\n",
    "    print(f\"{trainDF[index]} has {total} total: {nullTotal} ===> {(nullTotal/total)*100}%\")"
   ]
  },
  {
   "cell_type": "code",
   "execution_count": null,
   "metadata": {},
   "outputs": [],
   "source": [
    "for index in columnNames:\n",
    "    print(f\"{index}\\t\\t: {len(trainDF[index])} : {missingValues[index]}\")"
   ]
  },
  {
   "cell_type": "code",
   "execution_count": null,
   "metadata": {},
   "outputs": [],
   "source": [
    "for column in trainDF:\n",
    "    uniqueValues = len(trainDF[column].unique())\n",
    "    print(f\"Column {column}: {uniqueValues}\")"
   ]
  },
  {
   "cell_type": "code",
   "execution_count": 3,
   "metadata": {},
   "outputs": [
    {
     "name": "stdout",
     "output_type": "stream",
     "text": [
      "Column ID : <bound method Series.idxmax of 1001      1\n",
      "76956     1\n",
      "76967     1\n",
      "76966     1\n",
      "76965     1\n",
      "         ..\n",
      "38976     1\n",
      "38975     1\n",
      "38974     1\n",
      "38973     1\n",
      "114937    1\n",
      "Name: ID, Length: 113937, dtype: int64>\n",
      "Column DEVICETYPE : <bound method Series.idxmax of Desktop    78423\n",
      "Mobile     32065\n",
      "Tablet      3425\n",
      "Unknown       24\n",
      "Name: DEVICETYPE, dtype: int64>\n",
      "Column PLATFORM_ID : <bound method Series.idxmax of 2     79151\n",
      "7     20913\n",
      "9      3891\n",
      "5      3230\n",
      "6      2978\n",
      "10     1037\n",
      "4       745\n",
      "14      725\n",
      "12      544\n",
      "3       479\n",
      "8       130\n",
      "15       42\n",
      "1        40\n",
      "13       31\n",
      "16        1\n",
      "Name: PLATFORM_ID, dtype: int64>\n",
      "Column BIDREQUESTIP : <bound method Series.idxmax of 71.105.120.171     1718\n",
      "142.154.205.202    1143\n",
      "68.132.98.211       866\n",
      "108.175.114.100     727\n",
      "108.175.114.101     707\n",
      "                   ... \n",
      "66.66.9.45            1\n",
      "97.80.251.36          1\n",
      "136.32.32.117         1\n",
      "64.127.133.6          1\n",
      "108.41.233.175        1\n",
      "Name: BIDREQUESTIP, Length: 33664, dtype: int64>\n",
      "Column USERPLATFORMUID : <bound method Series.idxmax of 3e2578c8-f794-41af-a38c-c5cfb3c0f014    1447\n",
      "d76f7c0b-1a64-4d4b-b36d-86c832be8837    1406\n",
      "d00f28d6-3a50-46cd-92f3-8601bd57ad0e     675\n",
      "fcd3d327-0ad5-425e-8ea8-33ffe6a31543     629\n",
      "fe53f32c-4646-4abe-afea-90b21d6b8531     617\n",
      "                                        ... \n",
      "6759cbf8-cf4f-4d0e-9eb8-00808e69e841       1\n",
      "bd2007ca-d0b5-4620-8078-b7c6db62037c       1\n",
      "0534212a-e0e9-49e7-ace9-608e0d0eae8a       1\n",
      "26a06716-2716-4ac2-9131-fa0f01f84526       1\n",
      "d26887c5-15f9-4b72-80dc-728039529e60       1\n",
      "Name: USERPLATFORMUID, Length: 53780, dtype: int64>\n",
      "Column USERCITY : <bound method Series.idxmax of New York          4943\n",
      "Brooklyn          3237\n",
      "St Louis          2545\n",
      "Los Angeles       2154\n",
      "Houston           1747\n",
      "                  ... \n",
      "Foothill Ranch       1\n",
      "Henrietta            1\n",
      "Wartburg             1\n",
      "Winfield             1\n",
      "Gambier              1\n",
      "Name: USERCITY, Length: 4420, dtype: int64>\n",
      "Column USERZIPCODE : <bound method Series.idxmax of 63169.0        2116\n",
      "11226.0        1752\n",
      "22202.0        1259\n",
      "10001.0        1190\n",
      "90060.0        1058\n",
      "               ... \n",
      "56748.0           1\n",
      "77021.0           1\n",
      "74880.0           1\n",
      "93630.0           1\n",
      "760865488.0       1\n",
      "Name: USERZIPCODE, Length: 11278, dtype: int64>\n",
      "Column USERAGENT : <bound method Series.idxmax of Mozilla/5.0 (Windows NT 10.0; Win64; x64) AppleWebKit/537.36 (KHTML, like Gecko) Chrome/111.0.0.0 Safari/537.36                                                      8380\n",
      "Mozilla/5.0 (Windows NT 10.0; Win64; x64) AppleWebKit/537.36 (KHTML, like Gecko) Chrome/112.0.0.0 Safari/537.36                                                      5721\n",
      "Mozilla/5.0 (Windows NT 10.0; Win64; x64) AppleWebKit/537.36 (KHTML, like Gecko) Chrome/110.0.0.0 Safari/537.36                                                      3868\n",
      "Mozilla/5.0 (Windows NT 10.0; Win64; x64) AppleWebKit/537.36 (KHTML, like Gecko) Chrome/113.0.0.0 Safari/537.36                                                      3757\n",
      "Mozilla/5.0 (iPhone; CPU iPhone OS 16_3_1 like Mac OS X) AppleWebKit/605.1.15 (KHTML, like Gecko) Version/16.3 Mobile/15E148 Safari/604.1                            3480\n",
      "                                                                                                                                                                     ... \n",
      "Mozilla/5.0 (Linux; Android 13; SM-G998U) AppleWebKit/537.36 (KHTML, like Gecko) Chrome/110.0.0.0 Mobile Safari/537.36 EdgA/110.0.1587.66                               1\n",
      "Mozilla/5.0 (Linux; Android 12; SM-S124DL) AppleWebKit/537.36 (KHTML, like Gecko) Chrome/111.0.0.0 Mobile Safari/537.36                                                 1\n",
      "Mozilla/5.0 (Windows NT 10.0; Win64; x64) AppleWebKit/537.36 (KHTML, like Gecko) Chrome/85.0.4183.83 Safari/537.36                                                      1\n",
      "Mozilla/5.0 (Linux; Android 12; SM-A516V Build/SP1A.210812.016; wv) AppleWebKit/537.36 (KHTML, like Gecko) Version/4.0 Chrome/105.0.5195.136 Mobile Safari/537.36       1\n",
      "Mozilla/5.0 (iPhone; CPU iPhone OS 15_4 like Mac OS X) AppleWebKit/605.1.15 (KHTML, like Gecko) CriOS/86.0.4240.93 Mobile/15E148 Safari/604.1                           1\n",
      "Name: USERAGENT, Length: 4288, dtype: int64>\n",
      "Column PLATFORMTYPE : <bound method Series.idxmax of Online Medical Journal      110120\n",
      "Online Learning Portal        2978\n",
      "Medical News Platform          798\n",
      "Electronic Health Record        40\n",
      "Tele-medicine Platform           1\n",
      "Name: PLATFORMTYPE, dtype: int64>\n",
      "Column CHANNELTYPE : <bound method Series.idxmax of Website    113937\n",
      "Name: CHANNELTYPE, dtype: int64>\n",
      "Column URL : <bound method Series.idxmax of https://www.clinicaladvisor.com/home/features/clinical-challenge/pain-tingling-and-limited-range-of-motion-after-a-cat-bite-to-the-finger/                                                                                                                                                                                                                                                                                                                                                                                   5310\n",
      "https://www.gastroenterologyadvisor.com/                                                                                                                                                                                                                                                                                                                                                                                                                                                                                     4299\n",
      "https://www.cureus.com/articles/105482-diverticulitis-with-microperforation                                                                                                                                                                                                                                                                                                                                                                                                                                                  2838\n",
      "https://www.clinicaladvisor.com/home/dermatologic-look-alikes/red-rashes-on-the-lower-legs/2/                                                                                                                                                                                                                                                                                                                                                                                                                                2708\n",
      "https://www.rheumatologyadvisor.com/home/general-rheumatology/deep-dive-overview-of-liver-manifestations-in-rheumatic-diseases/                                                                                                                                                                                                                                                                                                                                                                                              2587\n",
      "                                                                                                                                                                                                                                                                                                                                                                                                                                                                                                                             ... \n",
      "https://www.infectiousdiseaseadvisor.com/home/topics/covid19/mixed-results-for-paxlovid-in-standard-risk-patients-with-covid-19/?utm_source=newsletter&utm_medium=email&utm_campaign=NWSLT_IDA_UPDT_062222_JM&hmEmail=kTgLcihhhDEW1GwCOOdG13UHIqcIj%2F6O&hmSubId=&NID=1316018294&elqTrackId=e3e7472aa24848f5b776f0dfa4cae5e5&elq=e6d2fec6b6d24ee89c79463b98493739&elqaid=353&elqat=1&elqCampaignId=194                                                                                                                          1\n",
      "https://www.clinicaladvisor.com/home/meeting-coverage/acaai-2022/early-atopic-dermatitis-modifies-the-risk-for-allergic-respiratory-disease/?utm_source=newsletter&utm_medium=email&utm_campaign=NWLTR_CAD_CONF_ACAAI_ASTEPRO_112222_RM&hmEmail=Ysc25hIpkOHdmgLIaUrt9Bhfr1jEQITVgqbP1HaB5lo=&sha256email=c372454efec279dee597fd62192657913f5a5108d9d7a648a2d518ed2f4abcad&hmSubId=&NID=1003876251&elqTrackId=031b0c57d3bc455eb8736ad8693830db&elq=db6bd4eba8354842aff4c502062d50df&elqaid=7476&elqat=1&elqCampaignId=6232       1\n",
      "https://www.rheumatologyadvisor.com/home/news/early-screening-and-management-of-cardiovascular-risk-factors-important-in-psoriatic-arthritis-and-ankylosing-spondylitis/?utm_source=google&utm_medium=ppc&utm_campaign=traffic-drivers-rheum&gclid=EAIaIQobChMIpf6cxoWQ_AIVAqvICh1JwA4XEAEYASAAEgKTN_D_BwE                                                                                                                                                                                                                      1\n",
      "https://allmedx.com/q/Flu vaccine lowers risk of stroke?utm_source=Email8271&utm_medium=email&utm_campaign=Email8271&em_tag=94264\u000b\u000b\u000b                                                                                                                                                                                                                                                                                                                                                                                            1\n",
      "https://radrounds.com/radiology-case-images-teaching-file/bilothorax/?fbclid=IwAR3Yw9WM9wiMWr1a1QPTfo4ktG3z5v7TJqCASTbHHi4jNub55m23gxSvsFg                                                                                                                                                                                                                                                                                                                                                                                      1\n",
      "Name: URL, Length: 5231, dtype: int64>\n",
      "Column KEYWORDS : <bound method Series.idxmax of Family Practice|Drainage|Clinical|Dermatology|Ophthalmology|Medicine|Allergic|General|Diagnosis|Neurology|Hepatology|Health|Cardiovascular|Surgical|Psychiatry|Oral|Urology|Cardiology|Gastroenterology|Orthopedics|Erythema|Arthritis|Asthma|Cellulitis|Pediatrics|Surgery|False|Oncology|Rheumatology                                                                                                                                                                                                                                                                                                                                                                                                                                          5317\n",
      "Transplantation|Technology|Chronic|Neoplasms|Urology|Pancreas|Mental Health|Arthritis|Refractory|Myocardial Infarction|Aged|Cardiology|Oncology|Surgical|Balloon|Anesthesia|Synthetic|Hepatic Transplantation|Diagnosis|Neurology|Ophthalmology|Surgery|Total|Atrial Fibrillation|Overweight|Autoimmune|Atherectomy|Heart Defects|Neonatal|Psychological|Stomach|Metabolic|Hospitals|Graves|Esophagus|Liver|Oral|Rheumatology|Insomnia|Acquired|General|Induced|Gastroenterology|Psychiatry|Angioplasty|Cardiovascular|Child|Arrhythmia|Dermatology|Liver Transplantation|Anxiety Disorders|Delivery|Flu|Small|Resuscitation|Asthma|Pathology|Medicine|Health|Clinical|False|Biliary Tract|Lung|Sleep Disorders|Arrhythmias|Bariatric Surgery    4530\n",
      "Health|Male|Neurological Surgery|Otolaryngology|Preventive Medicine|Surgery|Analgesia|Neutrophils|Resuscitation|Dermatology|Neurology|General|Intravenous|Oral|Surgical|Trauma|Orthopedics|Medicine|Monocytes|Specialties|Preventive|Anastomosis|Physical Medicine & Rehabilitation|Rheumatology|Urology|Critical Care|General Practice|Abscess|Dentistry|Small|Gastroenterology|Cardiac|Technology|Operative|Large|Emergency Medicine|Rehabilitation|Drainage|False|Anesthesiology|Oncology|Ophthalmology|Pediatrics|Transplantation|Clinical|Diagnosis|Metabolic|Pathology|Total|Cardiology|Nuclear Medicine|Psychiatry                                                                                                                        2838\n",
      "Myopathies|Small|Rheumatoid|Psychiatry|Urology|General|False|Chronic|Induced|Total|Neurology|Arthralgia|Joints|Medicine|Health|Connective Tissue Diseases|Intrahepatic|Polyarthritis|Gastroenterology|Autoimmune Diseases|Liver Dysfunction|Liver Diseases|Arthritis|Controlled|Synthetic|Clinical|Metabolic|Cardiology|Rheumatology|Liver|Rheumatic Diseases|Genetic|Autoimmune|Dermatology|Oncology|Ophthalmology                                                                                                                                                                                                                                                                                                                              2741\n",
      "Hemoptysis|Oral|Rheumatology|Cardiovascular|Small|Rheumatoid|Oncology|Ophthalmology|Clinical|Cardiology|Hemorrhage|Health|Biopsy|Hepatology|Hypersensitivity|Refractory|False|Chronic|Psychiatry|Urology|Medicine|Neutrophils|Erythema|Asthma|Diagnosis|Neurology|Orthopedics|Pediatrics|General|Dermatology|Gastroenterology|Surgery|Hematuria|Disseminated Intravascular Coagulation|Arthritis                                                                                                                                                                                                                                                                                                                                                 2708\n",
      "                                                                                                                                                                                                                                                                                                                                                                                                                                                                                                                                                                                                                                                                                                                                                 ... \n",
      "small|hospitals|biliary tract|thrombocytopenia|advanced|rheumatology|hepatology|oncology|angioedema|thyroid carcinoma|physicians|cystic fibrosis|pulmonary fibrosis|induced|alagille syndrome|pulmonary arterial hypertension|neurology|new|pain|myelofibrosis|disease|large|liver|vasculitis|biomarkers|multiple sclerosis|neuromyelitis optica|diagnosis|health|gastroenterology|idiopathic pulmonary fibrosis|cardiology|intrahepatic|the|hematology|clinical|carcinoma|urology|hereditary|hypertension|endocrinology|                                                                                                                                                                                                                           1\n",
      "Medicine|Gastroenterology|Health|Total|Neurology|General|Dermatology|Oral|Psychiatry|Graves|Molecular|Oncology|Graves Disease|Clinical|Ophthalmology|Rheumatology|Urology|False|Cardiology                                                                                                                                                                                                                                                                                                                                                                                                                                                                                                                                                          1\n",
      "biliary tract|rheumatology|stomach|psychiatry|oncology|general|total|pancreas|patient|ophthalmology|neurology|pain|disease|biologics|liver|medicine|gastroenterology|cardiology|the|controlled|hematology|clinical|dermatology|urology|esophagus|endocrinology|                                                                                                                                                                                                                                                                                                                                                                                                                                                                                     1\n",
      "chronic kidney disease|nephrology|rheumatology|psychiatry|lupus|oncology|erectile dysfunction|nephrology|nephritis|general|ophthalmology|chronic|neurology|cardiovascular disease|pain|sleep disorders|disease|large|health|medicine|gastroenterology|cardiovascular|anemia|reproductive|the|clinical|hematology|premature|dermatology|arthritis|carcinoma|transplantation|urology|urinary tract infections|diabetes|hypertension|endocrinology|                                                                                                                                                                                                                                                                                                    1\n",
      "the|lung|educational|pneumonia|radiology|pulmonary fibrosis|dyspnea|technology|pleural effusion|                                                                                                                                                                                                                                                                                                                                                                                                                                                                                                                                                                                                                                                    1\n",
      "Name: KEYWORDS, Length: 2460, dtype: int64>\n",
      "Column TAXONOMY : <bound method Series.idxmax of 2084P0800X    7930\n",
      "2084N0400X    6621\n",
      "207Q00000X    3997\n",
      "207R00000X    3190\n",
      "208000000X     837\n",
      "              ... \n",
      "163WC0400X       1\n",
      "246QM0706X       1\n",
      "1835N1003X       1\n",
      "207RI0008X       1\n",
      "207XX0801X       1\n",
      "Name: TAXONOMY, Length: 207, dtype: int64>\n",
      "Column IS_HCP : <bound method Series.idxmax of 0.0    79756\n",
      "1.0    34180\n",
      "Name: IS_HCP, dtype: int64>\n"
     ]
    }
   ],
   "source": [
    "for col in trainDF.columns:\n",
    "    maxAppearedValue = trainDF[col].value_counts().idxmax\n",
    "    print(f\"Column {col} : {maxAppearedValue}\")"
   ]
  },
  {
   "cell_type": "code",
   "execution_count": 18,
   "metadata": {},
   "outputs": [
    {
     "name": "stdout",
     "output_type": "stream",
     "text": [
      "0.0    79756\n",
      "1.0    34180\n",
      "Name: IS_HCP, dtype: int64\n"
     ]
    },
    {
     "data": {
      "image/png": "[encoded data removed]",
      "text/plain": [
       "<Figure size 640x480 with 1 Axes>"
      ]
     },
     "metadata": {},
     "output_type": "display_data"
    }
   ],
   "source": [
    "columnName = 'IS_HCP'\n",
    "valueCounts = trainDF[columnName].value_counts()\n",
    "valueCounts.plot(kind='bar')\n",
    "plt.title(f\" {columnName} vs Counts \")\n",
    "plt.xlabel(columnName)\n",
    "plt.ylabel(\"Frequency\")\n",
    "print(valueCounts)"
   ]
  },
  {
   "cell_type": "code",
   "execution_count": null,
   "metadata": {},
   "outputs": [],
   "source": []
  }
 ],
 "metadata": {
  "kernelspec": {
   "display_name": "atom",
   "language": "python",
   "name": "python3"
  },
  "language_info": {
   "codemirror_mode": {
    "name": "ipython",
    "version": 3
   },
   "file_extension": ".py",
   "mimetype": "text/x-python",
   "name": "python",
   "nbconvert_exporter": "python",
   "pygments_lexer": "ipython3",
   "version": "3.11.3"
  },
  "orig_nbformat": 4
 },
 "nbformat": 4,
 "nbformat_minor": 2
}
