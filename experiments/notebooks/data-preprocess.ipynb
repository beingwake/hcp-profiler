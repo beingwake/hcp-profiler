{
 "cells": [
  {
   "cell_type": "code",
   "execution_count": null,
   "metadata": {},
   "outputs": [],
   "source": [
    "import pandas as pd\n",
    "import numpy as np\n",
    "import matplotlib.pyplot as plt"
   ]
  },
  {
   "cell_type": "code",
   "execution_count": null,
   "metadata": {},
   "outputs": [],
   "source": [
    "trainDF = pd.read_csv('../../dataset/Doceree-HCP_Train.csv', encoding='latin-1')\n",
    "print(trainDF.head())"
   ]
  },
  {
   "cell_type": "code",
   "execution_count": null,
   "metadata": {},
   "outputs": [],
   "source": [
    "trainDF.info()"
   ]
  },
  {
   "cell_type": "code",
   "execution_count": null,
   "metadata": {},
   "outputs": [],
   "source": [
    "for column in trainDF.columns:\n",
    "    uniqueValues = trainDF[column].unique()\n",
    "    print(f\"Column: {column} ==> {len(uniqueValues)}\")\n",
    "    print()"
   ]
  },
  {
   "cell_type": "code",
   "execution_count": null,
   "metadata": {},
   "outputs": [],
   "source": [
    "print(len(trainDF[\"USERAGENT\"].unique()))"
   ]
  },
  {
   "cell_type": "code",
   "execution_count": null,
   "metadata": {},
   "outputs": [],
   "source": [
    "missingValues = trainDF.isnull().sum()"
   ]
  },
  {
   "cell_type": "code",
   "execution_count": null,
   "metadata": {},
   "outputs": [],
   "source": [
    "missingValues['ID']"
   ]
  },
  {
   "cell_type": "code",
   "execution_count": null,
   "metadata": {},
   "outputs": [],
   "source": [
    "columnNames = trainDF.columns\n",
    "columnNames"
   ]
  },
  {
   "cell_type": "code",
   "execution_count": null,
   "metadata": {},
   "outputs": [],
   "source": [
    "trainDF['DEVICETYPE'].value_counts().idxmax"
   ]
  },
  {
   "cell_type": "code",
   "execution_count": null,
   "metadata": {},
   "outputs": [],
   "source": [
    "32065 + 3425 + 24 + 78423"
   ]
  },
  {
   "cell_type": "code",
   "execution_count": null,
   "metadata": {},
   "outputs": [],
   "source": [
    "for index in columnNames:\n",
    "    total = missingValues[index]\n",
    "    nullTotal = len(trainDF[index])\n",
    "    print(f\"{trainDF[index]} has {total} total: {nullTotal} ===> {(nullTotal/total)*100}%\")"
   ]
  },
  {
   "cell_type": "code",
   "execution_count": null,
   "metadata": {},
   "outputs": [],
   "source": [
    "for index in columnNames:\n",
    "    print(f\"{index}\\t\\t: {len(trainDF[index])} : {missingValues[index]}\")"
   ]
  },
  {
   "cell_type": "code",
   "execution_count": null,
   "metadata": {},
   "outputs": [],
   "source": [
    "for column in trainDF:\n",
    "    uniqueValues = len(trainDF[column].unique())\n",
    "    print(f\"Column {column}: {uniqueValues}\")"
   ]
  },
  {
   "cell_type": "code",
   "execution_count": null,
   "metadata": {},
   "outputs": [],
   "source": [
    "for col in trainDF.columns:\n",
    "    maxAppearedValue = trainDF[col].value_counts().idxmax\n",
    "    print(f\"Column {col} : {maxAppearedValue}\")"
   ]
  },
  {
   "cell_type": "code",
   "execution_count": null,
   "metadata": {},
   "outputs": [],
   "source": [
    "columnName = 'KEYWORDS'\n",
    "valueCounts = trainDF[columnName].value_counts()\n",
    "valueCounts.plot(kind='bar')\n",
    "plt.title(f\" {columnName} vs Counts \")\n",
    "plt.xlabel(columnName)\n",
    "plt.ylabel(\"Frequency\")\n",
    "print(valueCounts)"
   ]
  },
  {
   "cell_type": "code",
   "execution_count": 33,
   "metadata": {},
   "outputs": [
    {
     "ename": "ValueError",
     "evalue": "Unable to parse string \"Portland\" at position 0",
     "output_type": "error",
     "traceback": [
      "\u001b[0;31m---------------------------------------------------------------------------\u001b[0m",
      "\u001b[0;31mValueError\u001b[0m                                Traceback (most recent call last)",
      "File \u001b[0;32m~/anaconda3/envs/atom/lib/python3.11/site-packages/pandas/_libs/lib.pyx:2369\u001b[0m, in \u001b[0;36mpandas._libs.lib.maybe_convert_numeric\u001b[0;34m()\u001b[0m\n",
      "\u001b[0;31mValueError\u001b[0m: Unable to parse string \"Portland\"",
      "\nDuring handling of the above exception, another exception occurred:\n",
      "\u001b[0;31mValueError\u001b[0m                                Traceback (most recent call last)",
      "Cell \u001b[0;32mIn[33], line 1\u001b[0m\n\u001b[0;32m----> 1\u001b[0m userCity \u001b[39m=\u001b[39m pd\u001b[39m.\u001b[39;49mto_numeric(trainDF[\u001b[39m'\u001b[39;49m\u001b[39mUSERCITY\u001b[39;49m\u001b[39m'\u001b[39;49m])\n\u001b[1;32m      2\u001b[0m userZipCode \u001b[39m=\u001b[39m pd\u001b[39m.\u001b[39mto_numeric(trainDF[\u001b[39m'\u001b[39m\u001b[39mUSERZIPCODE\u001b[39m\u001b[39m'\u001b[39m], errors\u001b[39m=\u001b[39m\u001b[39m'\u001b[39m\u001b[39mcoerce\u001b[39m\u001b[39m'\u001b[39m)\n\u001b[1;32m      4\u001b[0m userCity\n",
      "File \u001b[0;32m~/anaconda3/envs/atom/lib/python3.11/site-packages/pandas/core/tools/numeric.py:185\u001b[0m, in \u001b[0;36mto_numeric\u001b[0;34m(arg, errors, downcast)\u001b[0m\n\u001b[1;32m    183\u001b[0m coerce_numeric \u001b[39m=\u001b[39m errors \u001b[39mnot\u001b[39;00m \u001b[39min\u001b[39;00m (\u001b[39m\"\u001b[39m\u001b[39mignore\u001b[39m\u001b[39m\"\u001b[39m, \u001b[39m\"\u001b[39m\u001b[39mraise\u001b[39m\u001b[39m\"\u001b[39m)\n\u001b[1;32m    184\u001b[0m \u001b[39mtry\u001b[39;00m:\n\u001b[0;32m--> 185\u001b[0m     values, _ \u001b[39m=\u001b[39m lib\u001b[39m.\u001b[39;49mmaybe_convert_numeric(\n\u001b[1;32m    186\u001b[0m         values, \u001b[39mset\u001b[39;49m(), coerce_numeric\u001b[39m=\u001b[39;49mcoerce_numeric\n\u001b[1;32m    187\u001b[0m     )\n\u001b[1;32m    188\u001b[0m \u001b[39mexcept\u001b[39;00m (\u001b[39mValueError\u001b[39;00m, \u001b[39mTypeError\u001b[39;00m):\n\u001b[1;32m    189\u001b[0m     \u001b[39mif\u001b[39;00m errors \u001b[39m==\u001b[39m \u001b[39m\"\u001b[39m\u001b[39mraise\u001b[39m\u001b[39m\"\u001b[39m:\n",
      "File \u001b[0;32m~/anaconda3/envs/atom/lib/python3.11/site-packages/pandas/_libs/lib.pyx:2411\u001b[0m, in \u001b[0;36mpandas._libs.lib.maybe_convert_numeric\u001b[0;34m()\u001b[0m\n",
      "\u001b[0;31mValueError\u001b[0m: Unable to parse string \"Portland\" at position 0"
     ]
    }
   ],
   "source": [
    "userCity = pd.to_numeric(trainDF['USERCITY'])\n",
    "userZipCode = pd.to_numeric(trainDF['USERZIPCODE'], errors='coerce')\n",
    "\n",
    "userCity"
   ]
  },
  {
   "cell_type": "code",
   "execution_count": 41,
   "metadata": {},
   "outputs": [
    {
     "data": {
      "text/plain": [
       "0.6051674815894686"
      ]
     },
     "execution_count": 41,
     "metadata": {},
     "output_type": "execute_result"
    }
   ],
   "source": [
    "userCity = pd.factorize(trainDF[\"USERCITY\"])[0] + 1\n",
    "userZipCode = pd.factorize(trainDF[\"USERZIPCODE\"])[0] + 1\n",
    "userCity = pd.Series(userCity)\n",
    "userZipCode = pd.Series(userZipCode)\n",
    "corr = userCity.corr(userZipCode)\n",
    "corr\n"
   ]
  },
  {
   "cell_type": "code",
   "execution_count": 35,
   "metadata": {},
   "outputs": [
    {
     "data": {
      "text/plain": [
       "numpy.ndarray"
      ]
     },
     "execution_count": 35,
     "metadata": {},
     "output_type": "execute_result"
    }
   ],
   "source": [
    "type(userCity)"
   ]
  },
  {
   "cell_type": "code",
   "execution_count": 37,
   "metadata": {},
   "outputs": [
    {
     "data": {
      "text/plain": [
       "113937"
      ]
     },
     "execution_count": 37,
     "metadata": {},
     "output_type": "execute_result"
    }
   ],
   "source": [
    "len(userCity)"
   ]
  },
  {
   "cell_type": "code",
   "execution_count": 39,
   "metadata": {},
   "outputs": [
    {
     "data": {
      "text/plain": [
       "4420"
      ]
     },
     "execution_count": 39,
     "metadata": {},
     "output_type": "execute_result"
    }
   ],
   "source": [
    "userCity.max()"
   ]
  },
  {
   "cell_type": "code",
   "execution_count": 45,
   "metadata": {},
   "outputs": [
    {
     "data": {
      "text/html": [
       "<div>\n",
       "<style scoped>\n",
       "    .dataframe tbody tr th:only-of-type {\n",
       "        vertical-align: middle;\n",
       "    }\n",
       "\n",
       "    .dataframe tbody tr th {\n",
       "        vertical-align: top;\n",
       "    }\n",
       "\n",
       "    .dataframe thead th {\n",
       "        text-align: right;\n",
       "    }\n",
       "</style>\n",
       "<table border=\"1\" class=\"dataframe\">\n",
       "  <thead>\n",
       "    <tr style=\"text-align: right;\">\n",
       "      <th></th>\n",
       "      <th>ID</th>\n",
       "      <th>DEVICETYPE</th>\n",
       "      <th>PLATFORM_ID</th>\n",
       "      <th>BIDREQUESTIP</th>\n",
       "      <th>USERPLATFORMUID</th>\n",
       "      <th>USERCITY</th>\n",
       "      <th>USERZIPCODE</th>\n",
       "      <th>USERAGENT</th>\n",
       "      <th>PLATFORMTYPE</th>\n",
       "      <th>CHANNELTYPE</th>\n",
       "      <th>URL</th>\n",
       "      <th>KEYWORDS</th>\n",
       "      <th>TAXONOMY</th>\n",
       "      <th>IS_HCP</th>\n",
       "    </tr>\n",
       "  </thead>\n",
       "  <tbody>\n",
       "    <tr>\n",
       "      <th>101780</th>\n",
       "      <td>102781</td>\n",
       "      <td>Desktop</td>\n",
       "      <td>5</td>\n",
       "      <td>216.24.45.42</td>\n",
       "      <td>722fe815-ed32-4bff-ad66-03edf6d910dd</td>\n",
       "      <td>NaN</td>\n",
       "      <td>NaN</td>\n",
       "      <td>Mozilla/5.0 (Windows NT 10.0; Win64; x64) Appl...</td>\n",
       "      <td>Online Medical Journal</td>\n",
       "      <td>Website</td>\n",
       "      <td>https://fpnotebook.com/Gyn/Vulva/VlvrPrts.htm</td>\n",
       "      <td>nephrology|radiology|abscess|oncology|general|...</td>\n",
       "      <td>NaN</td>\n",
       "      <td>0.0</td>\n",
       "    </tr>\n",
       "  </tbody>\n",
       "</table>\n",
       "</div>"
      ],
      "text/plain": [
       "            ID DEVICETYPE  PLATFORM_ID  BIDREQUESTIP  \\\n",
       "101780  102781    Desktop            5  216.24.45.42   \n",
       "\n",
       "                             USERPLATFORMUID USERCITY  USERZIPCODE  \\\n",
       "101780  722fe815-ed32-4bff-ad66-03edf6d910dd      NaN          NaN   \n",
       "\n",
       "                                                USERAGENT  \\\n",
       "101780  Mozilla/5.0 (Windows NT 10.0; Win64; x64) Appl...   \n",
       "\n",
       "                  PLATFORMTYPE CHANNELTYPE  \\\n",
       "101780  Online Medical Journal     Website   \n",
       "\n",
       "                                                  URL  \\\n",
       "101780  https://fpnotebook.com/Gyn/Vulva/VlvrPrts.htm   \n",
       "\n",
       "                                                 KEYWORDS TAXONOMY  IS_HCP  \n",
       "101780  nephrology|radiology|abscess|oncology|general|...      NaN     0.0  "
      ]
     },
     "execution_count": 45,
     "metadata": {},
     "output_type": "execute_result"
    }
   ],
   "source": [
    "trainDF.loc[trainDF[\"ID\"] == 102781]"
   ]
  },
  {
   "cell_type": "code",
   "execution_count": 52,
   "metadata": {},
   "outputs": [
    {
     "data": {
      "text/plain": [
       "3         229114624.0\n",
       "21        912031130.0\n",
       "22                NaN\n",
       "24                NaN\n",
       "33                NaN\n",
       "             ...     \n",
       "113911    921113738.0\n",
       "113913    787356202.0\n",
       "113918    760865488.0\n",
       "113929            NaN\n",
       "113934        98105.0\n",
       "Name: USERZIPCODE, Length: 6359, dtype: float64"
      ]
     },
     "execution_count": 52,
     "metadata": {},
     "output_type": "execute_result"
    }
   ],
   "source": [
    "missingCityCal = trainDF[trainDF[\"USERCITY\"].isna()][\"USERZIPCODE\"]\n",
    "missingCityCal"
   ]
  },
  {
   "cell_type": "code",
   "execution_count": 58,
   "metadata": {},
   "outputs": [],
   "source": [
    "missingCityOrg = trainDF[trainDF[\"USERCITY\"].isna()][\"USERCITY\"]"
   ]
  },
  {
   "cell_type": "code",
   "execution_count": 59,
   "metadata": {},
   "outputs": [
    {
     "data": {
      "text/plain": [
       "3         NaN\n",
       "21        NaN\n",
       "22        NaN\n",
       "24        NaN\n",
       "33        NaN\n",
       "         ... \n",
       "113911    NaN\n",
       "113913    NaN\n",
       "113918    NaN\n",
       "113929    NaN\n",
       "113934    NaN\n",
       "Name: USERCITY, Length: 6359, dtype: object"
      ]
     },
     "execution_count": 59,
     "metadata": {},
     "output_type": "execute_result"
    }
   ],
   "source": [
    "missingCityOrg"
   ]
  },
  {
   "cell_type": "code",
   "execution_count": 56,
   "metadata": {},
   "outputs": [
    {
     "data": {
      "text/plain": [
       "6359"
      ]
     },
     "execution_count": 56,
     "metadata": {},
     "output_type": "execute_result"
    }
   ],
   "source": [
    "len(missingCityCal.isna())"
   ]
  },
  {
   "cell_type": "code",
   "execution_count": 62,
   "metadata": {},
   "outputs": [
    {
     "data": {
      "text/plain": [
       "0         False\n",
       "1         False\n",
       "2         False\n",
       "3         False\n",
       "4         False\n",
       "          ...  \n",
       "113932    False\n",
       "113933    False\n",
       "113934    False\n",
       "113935    False\n",
       "113936    False\n",
       "Name: USERCITY, Length: 113937, dtype: bool"
      ]
     },
     "execution_count": 62,
     "metadata": {},
     "output_type": "execute_result"
    }
   ],
   "source": [
    "trainDF.groupby(\"USERZIPCODE\")[\"USERCITY\"].fillna(method='ffill')"
   ]
  },
  {
   "cell_type": "code",
   "execution_count": 65,
   "metadata": {},
   "outputs": [
    {
     "data": {
      "text/plain": [
       "USERCITY\n",
       "\u0018Aiea           9\n",
       "'Ewa Beach      9\n",
       "Abbeville       5\n",
       "Aberdeen       18\n",
       "Abilene        23\n",
       "               ..\n",
       "Zebulon        12\n",
       "Zelienople      6\n",
       "Zephyrhills     5\n",
       "Zion            4\n",
       "Zionsville     20\n",
       "Name: USERZIPCODE, Length: 4420, dtype: int64"
      ]
     },
     "execution_count": 65,
     "metadata": {},
     "output_type": "execute_result"
    }
   ],
   "source": [
    "trainDF.groupby(\"USERCITY\")[\"USERZIPCODE\"].count()"
   ]
  },
  {
   "cell_type": "code",
   "execution_count": null,
   "metadata": {},
   "outputs": [],
   "source": []
  }
 ],
 "metadata": {
  "kernelspec": {
   "display_name": "atom",
   "language": "python",
   "name": "python3"
  },
  "language_info": {
   "codemirror_mode": {
    "name": "ipython",
    "version": 3
   },
   "file_extension": ".py",
   "mimetype": "text/x-python",
   "name": "python",
   "nbconvert_exporter": "python",
   "pygments_lexer": "ipython3",
   "version": "3.11.3"
  },
  "orig_nbformat": 4
 },
 "nbformat": 4,
 "nbformat_minor": 2
}
