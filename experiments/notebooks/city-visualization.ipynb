{
 "cells": [
  {
   "cell_type": "code",
   "execution_count": 1,
   "metadata": {},
   "outputs": [],
   "source": [
    "import geopy.geocoders\n",
    "import folium\n",
    "import pandas as pd\n",
    "from tqdm import tqdm"
   ]
  },
  {
   "cell_type": "code",
   "execution_count": null,
   "metadata": {},
   "outputs": [],
   "source": [
    "trainDF = pd.read_csv('../../dataset/imputation-v1.csv', encoding='latin-1')"
   ]
  },
  {
   "cell_type": "code",
   "execution_count": null,
   "metadata": {},
   "outputs": [],
   "source": []
  },
  {
   "cell_type": "code",
   "execution_count": null,
   "metadata": {},
   "outputs": [],
   "source": [
    "\n",
    "geopy.geocoders.options.default_user_agent = \"http\"\n",
    "\n",
    "# Create a geocoder instance\n",
    "geolocator = geopy.geocoders.Nominatim(user_agent='http')\n",
    "\n",
    "\n",
    "userGepgraphy = trainDF[[\"USERCITY\"]]\n"
   ]
  },
  {
   "cell_type": "code",
   "execution_count": null,
   "metadata": {},
   "outputs": [],
   "source": []
  },
  {
   "cell_type": "code",
   "execution_count": null,
   "metadata": {},
   "outputs": [],
   "source": [
    "totalUniqueCity[\"USERCITY\"].apply(geolocator.geocode).appy(lambda location: (location.latitude, location.longitude))"
   ]
  },
  {
   "cell_type": "code",
   "execution_count": null,
   "metadata": {},
   "outputs": [],
   "source": [
    "totalUniqueCity.apply(geolocator.geocode).appy(lambda location: (location.latitude, location.longitude))"
   ]
  },
  {
   "cell_type": "code",
   "execution_count": null,
   "metadata": {},
   "outputs": [],
   "source": [
    "\n",
    "userGepgraphy[\"COORDINATES\"] = userGepgraphy[\"USERCITY\"].apply(geolocator.geocode).appy(lambda location: (location.latitude, location.longitude))\n",
    "\n",
    "latitude, longitude = userGepgraphy[\"COORDINATES\"].iloc[0]\n",
    "myCites = folium.Map(location=[latitude, longitude], zoom_start=12)\n"
   ]
  },
  {
   "cell_type": "code",
   "execution_count": null,
   "metadata": {},
   "outputs": [],
   "source": [
    "geolocator.geocode(totalUniqueCity[\"USERCITY\"][0])"
   ]
  },
  {
   "cell_type": "code",
   "execution_count": null,
   "metadata": {},
   "outputs": [],
   "source": [
    "\n",
    "\n",
    "for _, cityRow in tqdm(userGepgraphy.iterrows()):\n",
    "    cityName = cityRow[\"USERCITY\"]\n",
    "    latitude, longitude = cityRow[\"COORDINATES\"]\n",
    "    folium.Marker(location=[latitude, longitude], popup=cityName).add_to(myCites)\n",
    "\n",
    "# Display the map\n",
    "myCites.save('city_map.html')  # Save the map as an HTML file\n",
    "myCites  # Display the map in Jupyter Notebook or IDE\n"
   ]
  },
  {
   "cell_type": "code",
   "execution_count": null,
   "metadata": {},
   "outputs": [],
   "source": []
  },
  {
   "cell_type": "code",
   "execution_count": null,
   "metadata": {},
   "outputs": [],
   "source": []
  },
  {
   "cell_type": "code",
   "execution_count": null,
   "metadata": {},
   "outputs": [],
   "source": [
    "import pandas as pd\n",
    "import geopy.geocoders\n",
    "import folium\n",
    "\n",
    "# Set a custom user_agent for Nominatim\n",
    "geopy.geocoders.options.default_user_agent = \"my-application\"\n",
    "\n",
    "# Create a geocoder instance\n",
    "geolocator = geopy.geocoders.Nominatim(user_agent=\"my-application\")\n",
    "\n",
    "# Read the city data from a pandas DataFrame\n",
    "cities_df = pd.DataFrame({'City': ['City 1', 'City 2', 'City 3']})  # Replace with your own DataFrame\n",
    "\n",
    "# Geocode each city and store the coordinates\n",
    "cities_df['Coordinates'] = cities_df['City'].apply(geolocator.geocode).apply(lambda location: (location.latitude, location.longitude))\n",
    "\n",
    "# Create a map centered around the first city\n",
    "latitude, longitude = cities_df['Coordinates'].iloc[0]\n",
    "map_cities = folium.Map(location=[latitude, longitude], zoom_start=12)\n",
    "\n",
    "# Add a marker for each city\n",
    "for _, city_row in cities_df.iterrows():\n",
    "    city_name = city_row['City']\n",
    "    latitude, longitude = city_row['Coordinates']\n",
    "    folium.Marker(location=[latitude, longitude], popup=city_name).add_to(map_cities)\n",
    "\n",
    "# Display the map\n",
    "map_cities.save('cities_map.html')  # Save the map as an HTML file\n",
    "map_cities  # Display the map in Jupyter Notebook or IDE\n"
   ]
  },
  {
   "cell_type": "code",
   "execution_count": 76,
   "metadata": {},
   "outputs": [
    {
     "data": {
      "text/plain": [
       "array(['Portland', 'Arlington', 'New Meadows', ..., 'Texhoma', 'Goodhue',\n",
       "       'Gambier'], dtype=object)"
      ]
     },
     "execution_count": 76,
     "metadata": {},
     "output_type": "execute_result"
    }
   ],
   "source": [
    "totalUniqueCity = userGepgraphy[\"USERCITY\"].unique()\n"
   ]
  },
  {
   "cell_type": "code",
   "execution_count": 96,
   "metadata": {},
   "outputs": [],
   "source": [
    "totalUniqueCity = userGepgraphy[\"USERCITY\"].unique()\n",
    "totalUniqueCity = pd.DataFrame(totalUniqueCity[3500:], columns=[\"USERCITY\"])\n"
   ]
  },
  {
   "cell_type": "code",
   "execution_count": 2,
   "metadata": {},
   "outputs": [],
   "source": [
    "# read csv data\n",
    "downloaded_cords = pd.read_csv(\"../data-processed/co-ordinates.csv\")\n",
    "latitudes = downloaded_cords[\"LATITUDES\"].to_list()\n",
    "longitudes = downloaded_cords[\"LONGITUDES\"].to_list()"
   ]
  },
  {
   "cell_type": "code",
   "execution_count": 98,
   "metadata": {},
   "outputs": [
    {
     "name": "stderr",
     "output_type": "stream",
     "text": [
      " 11%|█         | 102/921 [00:51<08:06,  1.68it/s]"
     ]
    },
    {
     "name": "stdout",
     "output_type": "stream",
     "text": [
      "Cherry Point Marine Base Mobile Home Park\n"
     ]
    },
    {
     "name": "stderr",
     "output_type": "stream",
     "text": [
      " 21%|██        | 194/921 [01:37<06:12,  1.95it/s]"
     ]
    },
    {
     "name": "stdout",
     "output_type": "stream",
     "text": [
      "La CaÃ±ada Flintridge\n"
     ]
    },
    {
     "name": "stderr",
     "output_type": "stream",
     "text": [
      "100%|██████████| 921/921 [07:42<00:00,  1.99it/s]\n"
     ]
    }
   ],
   "source": [
    "for city in tqdm(totalUniqueCity[\"USERCITY\"]):\n",
    "    try:\n",
    "        location = geolocator.geocode(city)\n",
    "        latitudes.append(location.latitude)\n",
    "        longitudes.append(location.longitude)\n",
    "    \n",
    "    except:\n",
    "        print(city)\n",
    "        continue\n",
    "\n",
    "coordinates = pd.DataFrame(\n",
    "                {\n",
    "                    \"LATITUDES\": latitudes,\n",
    "                    \"LONGITUDES\": longitudes })\n",
    "\n",
    "coordinates.to_csv(\"../data-processed/co-ordinates.csv\", index=False)"
   ]
  },
  {
   "attachments": {},
   "cell_type": "markdown",
   "metadata": {},
   "source": [
    "San Francisco De Las Llagas\n",
    "\n",
    "Bevinsville\n",
    "\n",
    "Cherry Point Marine Base Mobile Home Park\n",
    "\n",
    "La CaÃ±ada Flintridge"
   ]
  },
  {
   "cell_type": "code",
   "execution_count": null,
   "metadata": {},
   "outputs": [],
   "source": []
  },
  {
   "cell_type": "code",
   "execution_count": 89,
   "metadata": {},
   "outputs": [],
   "source": [
    "\n"
   ]
  },
  {
   "cell_type": "code",
   "execution_count": 85,
   "metadata": {},
   "outputs": [],
   "source": [
    "map_cities = folium.Map(location=[latitudes[0], longitudes[0]], zoom_start=12)"
   ]
  },
  {
   "cell_type": "code",
   "execution_count": 56,
   "metadata": {},
   "outputs": [],
   "source": []
  },
  {
   "cell_type": "code",
   "execution_count": null,
   "metadata": {},
   "outputs": [],
   "source": [
    "map_cities = folium.Map(location=[latitudes[0], longitudes[0]], zoom_start=12)\n",
    "\n",
    "for index in range(1000,2000,1):\n",
    "    if index == 0:\n",
    "        continue\n",
    "    folium.Marker(location=[latitudes[index], longitudes[index]]).add_to(map_cities)\n",
    "\n",
    "\n",
    "map_cities.save('cities_map_2000.html')\n",
    "map_cities"
   ]
  },
  {
   "cell_type": "code",
   "execution_count": null,
   "metadata": {},
   "outputs": [],
   "source": []
  }
 ],
 "metadata": {
  "kernelspec": {
   "display_name": "atom",
   "language": "python",
   "name": "python3"
  },
  "language_info": {
   "codemirror_mode": {
    "name": "ipython",
    "version": 3
   },
   "file_extension": ".py",
   "mimetype": "text/x-python",
   "name": "python",
   "nbconvert_exporter": "python",
   "pygments_lexer": "ipython3",
   "version": "3.11.3"
  },
  "orig_nbformat": 4
 },
 "nbformat": 4,
 "nbformat_minor": 2
}
