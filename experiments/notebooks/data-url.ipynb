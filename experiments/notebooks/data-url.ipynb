{
 "cells": [
  {
   "cell_type": "code",
   "execution_count": 28,
   "metadata": {},
   "outputs": [],
   "source": [
    "import pandas as pd\n",
    "from sklearn.preprocessing import LabelEncoder\n",
    "import numpy as np\n",
    "import matplotlib.pyplot as plt\n",
    "import ipaddress\n",
    "from user_agents import parse\n",
    "from sklearn.preprocessing import OneHotEncoder"
   ]
  },
  {
   "cell_type": "markdown",
   "metadata": {},
   "source": []
  },
  {
   "cell_type": "code",
   "execution_count": 29,
   "metadata": {},
   "outputs": [],
   "source": [
    "dataset = pd.read_csv(\"../../dataset/Doceree-HCP_Train.csv\", encoding=\"latin-1\")"
   ]
  },
  {
   "cell_type": "code",
   "execution_count": 30,
   "metadata": {},
   "outputs": [],
   "source": [
    "keyword_series = dataset[\"KEYWORDS\"]"
   ]
  },
  {
   "cell_type": "code",
   "execution_count": 31,
   "metadata": {},
   "outputs": [],
   "source": [
    "url_series = dataset[\"URL\"]"
   ]
  },
  {
   "cell_type": "code",
   "execution_count": 32,
   "metadata": {},
   "outputs": [
    {
     "data": {
      "text/plain": [
       "'https://www.cancertherapyadvisor.com/home/cancer-topics/prostate-cancer/'"
      ]
     },
     "execution_count": 32,
     "metadata": {},
     "output_type": "execute_result"
    }
   ],
   "source": [
    "url_series[0]"
   ]
  },
  {
   "cell_type": "code",
   "execution_count": 33,
   "metadata": {},
   "outputs": [
    {
     "name": "stdout",
     "output_type": "stream",
     "text": [
      "scheme: https\n",
      "domain: www.psychiatryadvisor.com\n",
      "path: /home/topics/mood-disorders/depressive-disorder/medication-has-little-effect-emotional-blunting-major-depressive-disorder/\n",
      "query: \n",
      "fragment: \n"
     ]
    }
   ],
   "source": [
    "from urllib.parse import urlparse\n",
    "\n",
    "def extract_url_info(url):\n",
    "    # Parse the URL\n",
    "    parsed_url = urlparse(url)\n",
    "    \n",
    "    # Extract relevant information\n",
    "    scheme = parsed_url.scheme\n",
    "    domain = parsed_url.netloc\n",
    "    path = parsed_url.path\n",
    "    query = parsed_url.query\n",
    "    fragment = parsed_url.fragment\n",
    "    \n",
    "    # Return the extracted information as a dictionary\n",
    "    url_info = {\n",
    "        \"scheme\": scheme,\n",
    "        \"domain\": domain,\n",
    "        \"path\": path,\n",
    "        \"query\": query,\n",
    "        \"fragment\": fragment\n",
    "    }\n",
    "    \n",
    "    return url_info\n",
    "\n",
    "# Example usage\n",
    "url = url_series[47]\n",
    "url_info = extract_url_info(url)\n",
    "\n",
    "# Print the extracted information\n",
    "for key, value in url_info.items():\n",
    "    print(f\"{key}: {value}\")\n"
   ]
  },
  {
   "cell_type": "code",
   "execution_count": null,
   "metadata": {},
   "outputs": [],
   "source": []
  },
  {
   "cell_type": "code",
   "execution_count": 34,
   "metadata": {},
   "outputs": [],
   "source": [
    "import tldextract\n",
    "\n",
    "def extract_url_info(url):\n",
    "    # Extract domain, subdomain, and suffix from the URL\n",
    "    extracted = tldextract.extract(url)\n",
    "    \n",
    "    # Extract path, query, and fragment from the URL\n",
    "    parsed_url = urlparse(url)\n",
    "    path = parsed_url.path\n",
    "    query = parsed_url.query\n",
    "    fragment = parsed_url.fragment\n",
    "    url_depth = len(path.split(\"/\"))\n",
    "    \n",
    "    # Return the extracted information as a dictionary\n",
    "    url_info = {\n",
    "        \"scheme\": parsed_url.scheme,\n",
    "        \"subdomain\": extracted.subdomain,\n",
    "        \"domain\": extracted.domain,\n",
    "        \"path\": path,\n",
    "        \"path-depth\": url_depth,\n",
    "        \"length\": len(path),\n",
    "        \"query\": query,\n",
    "        \"fragment\": fragment\n",
    "    }\n",
    "    \n",
    "    return url_info\n",
    "\n",
    "# # Example usage\n",
    "# url = url_series[65132]\n",
    "# url_info = extract_url_info(url)\n",
    "\n",
    "# # Print the extracted information\n",
    "# for key, value in url_info.items():\n",
    "#     print(f\"{key}: {value}\")\n"
   ]
  },
  {
   "cell_type": "code",
   "execution_count": 35,
   "metadata": {},
   "outputs": [],
   "source": [
    "url_infos = url_series.apply(extract_url_info)"
   ]
  },
  {
   "cell_type": "code",
   "execution_count": 36,
   "metadata": {},
   "outputs": [],
   "source": [
    "df_url_info = pd.DataFrame(list(url_infos))"
   ]
  },
  {
   "cell_type": "code",
   "execution_count": 37,
   "metadata": {},
   "outputs": [
    {
     "data": {
      "text/html": [
       "<div>\n",
       "<style scoped>\n",
       "    .dataframe tbody tr th:only-of-type {\n",
       "        vertical-align: middle;\n",
       "    }\n",
       "\n",
       "    .dataframe tbody tr th {\n",
       "        vertical-align: top;\n",
       "    }\n",
       "\n",
       "    .dataframe thead th {\n",
       "        text-align: right;\n",
       "    }\n",
       "</style>\n",
       "<table border=\"1\" class=\"dataframe\">\n",
       "  <thead>\n",
       "    <tr style=\"text-align: right;\">\n",
       "      <th></th>\n",
       "      <th>scheme</th>\n",
       "      <th>subdomain</th>\n",
       "      <th>domain</th>\n",
       "      <th>path</th>\n",
       "      <th>path-depth</th>\n",
       "      <th>length</th>\n",
       "      <th>query</th>\n",
       "      <th>fragment</th>\n",
       "    </tr>\n",
       "  </thead>\n",
       "  <tbody>\n",
       "    <tr>\n",
       "      <th>0</th>\n",
       "      <td>https</td>\n",
       "      <td>www</td>\n",
       "      <td>cancertherapyadvisor</td>\n",
       "      <td>/home/cancer-topics/prostate-cancer/</td>\n",
       "      <td>5</td>\n",
       "      <td>36</td>\n",
       "      <td></td>\n",
       "      <td></td>\n",
       "    </tr>\n",
       "    <tr>\n",
       "      <th>1</th>\n",
       "      <td>https</td>\n",
       "      <td>www</td>\n",
       "      <td>cancertherapyadvisor</td>\n",
       "      <td>/home/decision-support-in-medicine/hematology/...</td>\n",
       "      <td>6</td>\n",
       "      <td>69</td>\n",
       "      <td></td>\n",
       "      <td></td>\n",
       "    </tr>\n",
       "    <tr>\n",
       "      <th>2</th>\n",
       "      <td>https</td>\n",
       "      <td>www</td>\n",
       "      <td>cancertherapyadvisor</td>\n",
       "      <td>/home/cancer-topics/prostate-cancer/</td>\n",
       "      <td>5</td>\n",
       "      <td>36</td>\n",
       "      <td></td>\n",
       "      <td></td>\n",
       "    </tr>\n",
       "    <tr>\n",
       "      <th>3</th>\n",
       "      <td>https</td>\n",
       "      <td></td>\n",
       "      <td>globalrph</td>\n",
       "      <td>/medcalcs/warfarin-maintenance-dose-consult-tool/</td>\n",
       "      <td>4</td>\n",
       "      <td>49</td>\n",
       "      <td></td>\n",
       "      <td></td>\n",
       "    </tr>\n",
       "    <tr>\n",
       "      <th>4</th>\n",
       "      <td>https</td>\n",
       "      <td>www</td>\n",
       "      <td>cureus</td>\n",
       "      <td>/articles/58184-a-review-of-trikafta-triple-cy...</td>\n",
       "      <td>3</td>\n",
       "      <td>90</td>\n",
       "      <td></td>\n",
       "      <td></td>\n",
       "    </tr>\n",
       "  </tbody>\n",
       "</table>\n",
       "</div>"
      ],
      "text/plain": [
       "  scheme subdomain                domain  \\\n",
       "0  https       www  cancertherapyadvisor   \n",
       "1  https       www  cancertherapyadvisor   \n",
       "2  https       www  cancertherapyadvisor   \n",
       "3  https                       globalrph   \n",
       "4  https       www                cureus   \n",
       "\n",
       "                                                path  path-depth  length  \\\n",
       "0               /home/cancer-topics/prostate-cancer/           5      36   \n",
       "1  /home/decision-support-in-medicine/hematology/...           6      69   \n",
       "2               /home/cancer-topics/prostate-cancer/           5      36   \n",
       "3  /medcalcs/warfarin-maintenance-dose-consult-tool/           4      49   \n",
       "4  /articles/58184-a-review-of-trikafta-triple-cy...           3      90   \n",
       "\n",
       "  query fragment  \n",
       "0                 \n",
       "1                 \n",
       "2                 \n",
       "3                 \n",
       "4                 "
      ]
     },
     "execution_count": 37,
     "metadata": {},
     "output_type": "execute_result"
    }
   ],
   "source": [
    "df_url_info.head()"
   ]
  },
  {
   "cell_type": "code",
   "execution_count": 38,
   "metadata": {},
   "outputs": [
    {
     "name": "stdout",
     "output_type": "stream",
     "text": [
      "scheme ====> 1\n",
      "subdomain ====> 4\n",
      "domain ====> 33\n",
      "path ====> 2719\n",
      "path-depth ====> 9\n",
      "length ====> 197\n",
      "query ====> 2569\n",
      "fragment ====> 127\n"
     ]
    }
   ],
   "source": [
    "for col in df_url_info.columns:\n",
    "    print(col, \"====>\", len(df_url_info[col].unique()))"
   ]
  },
  {
   "cell_type": "code",
   "execution_count": 39,
   "metadata": {},
   "outputs": [
    {
     "data": {
      "text/plain": [
       "0         False\n",
       "1         False\n",
       "2         False\n",
       "3         False\n",
       "4         False\n",
       "          ...  \n",
       "113932    False\n",
       "113933    False\n",
       "113934    False\n",
       "113935    False\n",
       "113936    False\n",
       "Name: query, Length: 113937, dtype: bool"
      ]
     },
     "execution_count": 39,
     "metadata": {},
     "output_type": "execute_result"
    }
   ],
   "source": [
    "df_url_info[\"query\"].isna()"
   ]
  },
  {
   "cell_type": "code",
   "execution_count": 40,
   "metadata": {},
   "outputs": [
    {
     "data": {
      "text/plain": [
       "0         General|Endocrine|False|Medicine|Surgery|Urolo...\n",
       "1         Bone Marrow|Radiography|Chronic|Oncology|Psych...\n",
       "2         General|Endocrine|False|Medicine|Surgery|Urolo...\n",
       "3         Dental|Total|Clinical|Pharmacology|Physicians|...\n",
       "4         Critical Care|Emergency Medicine|General Pract...\n",
       "                                ...                        \n",
       "113932    Cardiovascular|Clinical|False|Male|Oncology|Ps...\n",
       "113933    Asthma|Arthritis|General|Clinical|Diagnosis|Rh...\n",
       "113934    Rehabilitation|Transplantation|Clinical|Preven...\n",
       "113935    pain|disease|autoimmune|multiple sclerosis|gra...\n",
       "113936    Genetic|Large|Autoimmune|Health|False|Abortion...\n",
       "Name: KEYWORDS, Length: 113937, dtype: object"
      ]
     },
     "execution_count": 40,
     "metadata": {},
     "output_type": "execute_result"
    }
   ],
   "source": [
    "keyword_series"
   ]
  },
  {
   "cell_type": "code",
   "execution_count": 41,
   "metadata": {},
   "outputs": [],
   "source": [
    "def split_keyword(value):\n",
    "    value = value.split(\"|\")\n",
    "    return value"
   ]
  },
  {
   "cell_type": "code",
   "execution_count": 42,
   "metadata": {},
   "outputs": [],
   "source": [
    "keyword_list = keyword_series.apply(split_keyword)"
   ]
  },
  {
   "cell_type": "code",
   "execution_count": 43,
   "metadata": {},
   "outputs": [
    {
     "data": {
      "text/plain": [
       "0         [General, Endocrine, False, Medicine, Surgery,...\n",
       "1         [Bone Marrow, Radiography, Chronic, Oncology, ...\n",
       "2         [General, Endocrine, False, Medicine, Surgery,...\n",
       "3         [Dental, Total, Clinical, Pharmacology, Physic...\n",
       "4         [Critical Care, Emergency Medicine, General Pr...\n",
       "                                ...                        \n",
       "113932    [Cardiovascular, Clinical, False, Male, Oncolo...\n",
       "113933    [Asthma, Arthritis, General, Clinical, Diagnos...\n",
       "113934    [Rehabilitation, Transplantation, Clinical, Pr...\n",
       "113935    [pain, disease, autoimmune, multiple sclerosis...\n",
       "113936    [Genetic, Large, Autoimmune, Health, False, Ab...\n",
       "Name: KEYWORDS, Length: 113937, dtype: object"
      ]
     },
     "execution_count": 43,
     "metadata": {},
     "output_type": "execute_result"
    }
   ],
   "source": [
    "keyword_list"
   ]
  },
  {
   "cell_type": "code",
   "execution_count": 44,
   "metadata": {},
   "outputs": [],
   "source": [
    "def convert_into_lower(value):\n",
    "    value = [word.lower() for word in value]\n",
    "    return value"
   ]
  },
  {
   "cell_type": "code",
   "execution_count": 45,
   "metadata": {},
   "outputs": [],
   "source": [
    "keyword_list = keyword_list.apply(convert_into_lower)"
   ]
  },
  {
   "cell_type": "code",
   "execution_count": 55,
   "metadata": {},
   "outputs": [
    {
     "data": {
      "text/plain": [
       "['general',\n",
       " 'endocrine',\n",
       " 'false',\n",
       " 'medicine',\n",
       " 'surgery',\n",
       " 'urology',\n",
       " 'chronic',\n",
       " 'gastroenterology',\n",
       " 'neurology',\n",
       " 'physicians',\n",
       " 'diagnosis',\n",
       " 'psychiatry',\n",
       " 'lung',\n",
       " 'clinical',\n",
       " 'dermatology',\n",
       " 'ophthalmology',\n",
       " 'cardiovascular',\n",
       " 'cardiology',\n",
       " 'oncology',\n",
       " 'rheumatology']"
      ]
     },
     "execution_count": 55,
     "metadata": {},
     "output_type": "execute_result"
    }
   ],
   "source": [
    "keyword_list[0]"
   ]
  },
  {
   "cell_type": "code",
   "execution_count": 57,
   "metadata": {},
   "outputs": [
    {
     "name": "stdout",
     "output_type": "stream",
     "text": [
      "Total unique keywords: 19\n"
     ]
    }
   ],
   "source": [
    "# Flatten the list of lists into a single list\n",
    "all_keywords = [keyword.lower() for sublist in keyword_list for keyword in sublist]\n",
    "\n",
    "# Count the total unique keywords\n",
    "unique_keywords = len(set(all_keywords))\n",
    "\n",
    "\n",
    "\n",
    "# Print the count of unique keywords\n",
    "print(\"Total unique keywords:\", unique_keywords)\n"
   ]
  },
  {
   "cell_type": "code",
   "execution_count": 62,
   "metadata": {},
   "outputs": [
    {
     "data": {
      "text/plain": [
       "'e'"
      ]
     },
     "execution_count": 62,
     "metadata": {},
     "output_type": "execute_result"
    }
   ],
   "source": [
    "all_keywords[1]"
   ]
  },
  {
   "cell_type": "code",
   "execution_count": 54,
   "metadata": {},
   "outputs": [
    {
     "name": "stdout",
     "output_type": "stream",
     "text": [
      "100\n"
     ]
    }
   ],
   "source": [
    "from gensim.models import Word2Vec\n",
    "\n",
    "# Example list of words\n",
    "word_list = ['apple', 'banana', 'orange']\n",
    "\n",
    "# Train Word2Vec model on a corpus of text data\n",
    "# You can replace this step with your own trained Word2Vec model\n",
    "# or use pre-trained models available in gensim or other libraries\n",
    "corpus = [['apple', 'fruit'], ['banana', 'fruit'], ['orange', 'fruit']]\n",
    "model = Word2Vec(corpus, min_count=1, vector_size=100)\n",
    "\n",
    "# Function to convert a list of words into a dense numerical vector\n",
    "def get_vector(word_list):\n",
    "    # Initialize an empty vector\n",
    "    vector = [0.0] * model.vector_size\n",
    "\n",
    "    # Iterate over each word in the list\n",
    "    for word in word_list:\n",
    "        # Check if the word is present in the Word2Vec model's vocabulary\n",
    "        if word in model.wv:\n",
    "            # Add the word's vector representation to the overall vector\n",
    "            vector = [v + w for v, w in zip(vector, model.wv[word])]\n",
    "\n",
    "    return vector\n",
    "\n",
    "# Get the dense numerical vector for the word list\n",
    "vector = get_vector(word_list)\n",
    "\n",
    "# Print the vector\n",
    "print(len(vector))\n"
   ]
  },
  {
   "cell_type": "code",
   "execution_count": 56,
   "metadata": {},
   "outputs": [
    {
     "name": "stdout",
     "output_type": "stream",
     "text": [
      "[-0.012847653037169948, 0.024732093239435926, 0.014773901624721475, 0.004695273062679917, 0.021751812571892515, -0.038580811640713364, 0.021702515776269138, 0.06737657165831479, -0.046380454674363136, -0.04900260943395551, 0.0040979764016810805, -0.05156094909762032, -0.01938246248755604, 0.0019869895186275244, 0.01534041432023514, -0.004738153045764193, 0.030903884558938444, 0.015400988249893999, -0.003778961719945073, -0.0814630888053216, 0.020154652554992936, 0.0012496845447458327, 0.055699559050140124, -0.017330223752651364, -0.012212980262120254, 0.02085068030282855, -0.034109779342543334, 0.01740062842145562, -0.005788701178971678, 0.009412195824552327, 0.024990404024720192, -0.022140714863780886, 0.010542724368860945, -0.02519330427821842, -0.007802132113283733, 0.023078149184584618, 0.017191444436321035, 0.017090452420234215, -0.018475067867257167, -0.012905889190733433, 0.03364587691612542, -0.03417778690345585, -0.019791923434240744, 0.04401062341639772, 0.0170227242524561, -0.0027941410371568054, -0.030166144657414407, -0.020028433078550734, 0.019028310489375144, 0.00998360407538712, 0.005000195720640477, -0.029237004986498505, 0.010139638485270552, -0.009266721084713936, -0.0185534373158589, -0.008018109354452463, 0.011302670347504318, -0.0163401672616601, 0.014322753413580358, 0.017503967421362177, -0.011026063817553222, -0.009196185128530487, 0.05786470556631684, 0.01584618049673736, -0.01647105148731498, 0.04644729971187189, 0.009958065464161336, 0.056365806609392166, -0.026367639104137197, -0.003944610944017768, 0.009651112137362361, 0.03473836035118438, 0.033830772852525115, 0.03474100516177714, 0.03263748448807746, 0.01563678868478746, 0.026336187176639214, 0.011058583506383002, -0.003486496483674273, -0.027012046460185957, -0.042405212414450943, -0.008701578248292208, 0.005886973609449342, 0.018698018437135033, -0.0021706047118641436, -0.01803221135196509, 0.030725386988706305, -0.009600570541806519, 0.01790806493954733, -0.005334005953045562, 0.0388005415443331, 0.026056545539177023, 0.023152246372774243, 0.0009700933587737381, 0.05366251012310386, 0.019523264843883226, 0.030620408154391043, -0.012608010321855545, 0.01852762361522764, 0.01484519784571603]\n"
     ]
    }
   ],
   "source": [
    "from gensim.models import Word2Vec\n",
    "\n",
    "# Example list of keywords\n",
    "keyword_list = ['general', 'endocrine', 'false', 'medicine', 'surgery', 'urology', 'chronic', 'gastroenterology',\n",
    "                'neurology', 'physicians', 'diagnosis', 'psychiatry', 'lung', 'clinical', 'dermatology',\n",
    "                'ophthalmology', 'cardiovascular', 'cardiology', 'oncology', 'rheumatology']\n",
    "\n",
    "# Train Word2Vec model on a corpus of text data\n",
    "# You can replace this step with your own trained Word2Vec model\n",
    "# or use pre-trained models available in gensim or other libraries\n",
    "corpus = [['general', 'endocrine', 'medicine', 'physicians'],\n",
    "          ['surgery', 'urology', 'physicians', 'diagnosis'],\n",
    "          ['chronic', 'gastroenterology', 'physicians'],\n",
    "          ['neurology', 'physicians'],\n",
    "          ['psychiatry', 'physicians', 'diagnosis'],\n",
    "          ['lung', 'medicine', 'clinical'],\n",
    "          ['dermatology', 'ophthalmology'],\n",
    "          ['cardiovascular', 'cardiology'],\n",
    "          ['oncology'],\n",
    "          ['rheumatology', 'diagnosis']]\n",
    "model = Word2Vec(corpus, min_count=1, vector_size=100)\n",
    "\n",
    "# Function to convert a list of keywords into a dense numerical vector\n",
    "def get_vector(keyword_list):\n",
    "    # Initialize an empty vector\n",
    "    vector = [0.0] * model.vector_size\n",
    "\n",
    "    # Iterate over each keyword in the list\n",
    "    for keyword in keyword_list:\n",
    "        # Check if the keyword is present in the Word2Vec model's vocabulary\n",
    "        if keyword in model.wv:\n",
    "            # Add the keyword's vector representation to the overall vector\n",
    "            vector = [v + w for v, w in zip(vector, model.wv[keyword])]\n",
    "\n",
    "    return vector\n",
    "\n",
    "# Get the dense numerical vector for the keyword list\n",
    "vector = get_vector(keyword_list)\n",
    "\n",
    "# Print the vector\n",
    "print(vector)\n"
   ]
  },
  {
   "cell_type": "code",
   "execution_count": null,
   "metadata": {},
   "outputs": [],
   "source": []
  }
 ],
 "metadata": {
  "kernelspec": {
   "display_name": "atom",
   "language": "python",
   "name": "python3"
  },
  "language_info": {
   "codemirror_mode": {
    "name": "ipython",
    "version": 3
   },
   "file_extension": ".py",
   "mimetype": "text/x-python",
   "name": "python",
   "nbconvert_exporter": "python",
   "pygments_lexer": "ipython3",
   "version": "3.11.3"
  },
  "orig_nbformat": 4
 },
 "nbformat": 4,
 "nbformat_minor": 2
}
